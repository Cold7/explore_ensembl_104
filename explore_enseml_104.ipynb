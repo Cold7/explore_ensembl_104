{
 "cells": [
  {
   "cell_type": "code",
   "execution_count": 1,
   "metadata": {},
   "outputs": [
    {
     "name": "stdout",
     "output_type": "stream",
     "text": [
      "['A549', 'A673', 'B', 'B_PB', 'CD14_monocyte_1', 'CD14_monocyte_PB', 'CD38__naive_B_CB', 'CD38__naive_B_VB', 'CD4_CD25_ab_Treg_PB', 'CD4_ab_T', 'CD4_ab_T_CB', 'CD4_ab_T_PB_1', 'CD4_ab_T_PB_2', 'CD4_ab_T_Th', 'CD4_ab_T_VB', 'CD8_ab_T_CB', 'CD8_ab_T_PB', 'CD8_ab_T_VB', 'CMP_CD4_1', 'CMP_CD4_2', 'CMP_CD4_3', 'CM_CD4_ab_T_VB', 'DND_41', 'EB_CB', 'EM_CD4_ab_T_PB', 'EM_CD8_ab_T_VB', 'EPC_VB', 'GM10847', 'GM12878', 'GM12891', 'GM12892', 'GM15510', 'GM18505', 'GM18526', 'GM18951', 'GM19099', 'GM19193', 'H1_hESC_2', 'H1_hESC_3', 'H9_1', 'H9_2', 'HCT116', 'HSMM', 'HUES48', 'HUES6', 'HUES64', 'HUVEC', 'HUVEC_prol_CB', 'HeLa_S3', 'HepG2', 'Hu__Fe_', 'IMR_90', 'K562', 'Karpas_422', 'M0_CB', 'M0_VB', 'M1_CB', 'M1_VB', 'M2_CB', 'M2_VB', 'MCF_7', 'MM_1S', 'MSC', 'MSC_VB', 'NHLF', 'NK_PB', 'NPC_1', 'NPC_2', 'NPC_3', 'PC_3', 'PC_9', 'PFSK_1', 'Panc1', 'SK_N_', 'SK_N_SH_RA', 'T', 'T_PB', 'Th17', 'UCSF_4', 'adrenal_gland', 'amnion', 'aorta', 'astrocyte', 'astrocyte_cerebellum', 'astrocyte_spinal_cord', 'bipolar_neuron', 'brain_1', 'cardiac_muscle', 'dermal_fibroblast', 'endocrine_pancreas', 'endodermal', 'eosinophil_VB', 'esophagus', 'foreskin_fibroblast_1', 'foreskin_fibroblast_2', 'foreskin_keratinocyte_1', 'foreskin_keratinocyte_2', 'foreskin_melanocyte_1', 'foreskin_melanocyte_2', 'germinal_matrix', 'heart', 'hepatocyte', 'iPS_15b', 'iPS_20b', 'iPS_DF_19_11', 'iPS_DF_6_9', 'keratinocyte', 'kidney', 'large_intestine', 'left_ventricle', 'leg_muscle', 'lung_1', 'lung_2', 'mammary_epithelial_1', 'mammary_epithelial_2', 'mammary_myoepithelial', 'monocyte_CB', 'monocyte_VB', 'mononuclear_PB', 'myotube', 'naive_B_To', 'naive_B_VB', 'neuron', 'neurosphere_C', 'neurosphere_GE', 'neutro_myelocyte', 'neutrophil_CB', 'neutrophil_PB', 'neutrophil_VB', 'osteoblast', 'ovary', 'pancreas', 'pancreas_2', 'placenta', 'psoas_muscle', 'right_atrium', 'right_ventricle', 'sigmoid_colon', 'small_intestine_1', 'small_intestine_2', 'spleen', 'stomach_1', 'stomach_2', 'thymus_1', 'thymus_2', 'transverse_colon', 'trophoblast', 'trunk_muscle', '']\n"
     ]
    }
   ],
   "source": [
    "#getting cell lines from ensembl \n",
    "import urllib.request\n",
    "\n",
    "fp = urllib.request.urlopen(\"ftp://ftp.ensembl.org/pub/release-104/regulation/homo_sapiens/Peaks/\")\n",
    "mybytes = fp.read()\n",
    "\n",
    "mystr = mybytes.decode(\"utf8\")\n",
    "fp.close()\n",
    "\n",
    "data = mystr.split(\"\\n\")\n",
    "cellLines = []\n",
    "for line in data:\n",
    "    cell = line.split(\" \")[-1]\n",
    "    cellLines.append(cell.replace(\"\\r\",\"\"))\n",
    "print(cellLines)"
   ]
  },
  {
   "cell_type": "code",
   "execution_count": 2,
   "metadata": {},
   "outputs": [],
   "source": [
    "#reading hocomoco tfs and saving it into a list\n",
    "f = open(\"HOCOMOCOv11_full_HUMAN_mono_meme_format.meme\",\"r\") #### download it from the hocomoco web page\n",
    "TFlist = []\n",
    "for line in f:\n",
    "    if \"MOTIF\" in line:\n",
    "        tf = line.split(\" \")[1].split(\"_HUMAN\")[0]\n",
    "        TFlist.append(tf)\n",
    "f.close()\n",
    "\n"
   ]
  },
  {
   "cell_type": "code",
   "execution_count": 3,
   "metadata": {},
   "outputs": [
    {
     "name": "stdout",
     "output_type": "stream",
     "text": [
      "working with: A549\n",
      "working with: A673\n",
      "working with: B\n",
      "working with: B_PB\n",
      "working with: CD14_monocyte_1\n",
      "working with: CD14_monocyte_PB\n",
      "working with: CD38__naive_B_CB\n",
      "working with: CD38__naive_B_VB\n",
      "working with: CD4_CD25_ab_Treg_PB\n",
      "working with: CD4_ab_T\n",
      "working with: CD4_ab_T_CB\n",
      "working with: CD4_ab_T_PB_1\n",
      "working with: CD4_ab_T_PB_2\n",
      "working with: CD4_ab_T_Th\n",
      "working with: CD4_ab_T_VB\n",
      "working with: CD8_ab_T_CB\n",
      "working with: CD8_ab_T_PB\n",
      "working with: CD8_ab_T_VB\n",
      "working with: CMP_CD4_1\n",
      "working with: CMP_CD4_2\n",
      "working with: CMP_CD4_3\n",
      "working with: CM_CD4_ab_T_VB\n",
      "working with: DND_41\n",
      "working with: EB_CB\n",
      "working with: EM_CD4_ab_T_PB\n",
      "working with: EM_CD8_ab_T_VB\n",
      "working with: EPC_VB\n",
      "working with: GM10847\n",
      "working with: GM12878\n",
      "working with: GM12891\n",
      "working with: GM12892\n",
      "working with: GM15510\n",
      "working with: GM18505\n",
      "working with: GM18526\n",
      "working with: GM18951\n",
      "working with: GM19099\n",
      "working with: GM19193\n",
      "working with: H1_hESC_2\n",
      "working with: H1_hESC_3\n",
      "working with: H9_1\n",
      "working with: H9_2\n",
      "working with: HCT116\n",
      "working with: HSMM\n",
      "working with: HUES48\n",
      "working with: HUES6\n",
      "working with: HUES64\n",
      "working with: HUVEC\n",
      "working with: HUVEC_prol_CB\n",
      "working with: HeLa_S3\n",
      "working with: HepG2\n",
      "working with: Hu__Fe_\n",
      "working with: IMR_90\n",
      "working with: K562\n",
      "working with: Karpas_422\n",
      "working with: M0_CB\n",
      "working with: M0_VB\n",
      "working with: M1_CB\n",
      "working with: M1_VB\n",
      "working with: M2_CB\n",
      "working with: M2_VB\n",
      "working with: MCF_7\n",
      "working with: MM_1S\n",
      "working with: MSC\n",
      "working with: MSC_VB\n",
      "working with: NHLF\n",
      "working with: NK_PB\n",
      "working with: NPC_1\n",
      "working with: NPC_2\n",
      "working with: NPC_3\n",
      "working with: PC_3\n",
      "working with: PC_9\n",
      "working with: PFSK_1\n",
      "working with: Panc1\n",
      "working with: SK_N_\n",
      "working with: SK_N_SH_RA\n",
      "working with: T\n",
      "working with: T_PB\n",
      "working with: Th17\n",
      "working with: UCSF_4\n",
      "working with: adrenal_gland\n",
      "working with: amnion\n",
      "working with: aorta\n",
      "working with: astrocyte\n",
      "working with: astrocyte_cerebellum\n",
      "working with: astrocyte_spinal_cord\n",
      "working with: bipolar_neuron\n",
      "working with: brain_1\n",
      "working with: cardiac_muscle\n",
      "working with: dermal_fibroblast\n",
      "working with: endocrine_pancreas\n",
      "working with: endodermal\n",
      "working with: eosinophil_VB\n",
      "working with: esophagus\n",
      "working with: foreskin_fibroblast_1\n",
      "working with: foreskin_fibroblast_2\n",
      "working with: foreskin_keratinocyte_1\n",
      "working with: foreskin_keratinocyte_2\n",
      "working with: foreskin_melanocyte_1\n",
      "working with: foreskin_melanocyte_2\n",
      "working with: germinal_matrix\n",
      "working with: heart\n",
      "working with: hepatocyte\n",
      "working with: iPS_15b\n",
      "working with: iPS_20b\n",
      "working with: iPS_DF_19_11\n",
      "working with: iPS_DF_6_9\n",
      "working with: keratinocyte\n",
      "working with: kidney\n",
      "working with: large_intestine\n",
      "working with: left_ventricle\n",
      "working with: leg_muscle\n",
      "working with: lung_1\n",
      "working with: lung_2\n",
      "working with: mammary_epithelial_1\n",
      "working with: mammary_epithelial_2\n",
      "working with: mammary_myoepithelial\n",
      "working with: monocyte_CB\n",
      "working with: monocyte_VB\n",
      "working with: mononuclear_PB\n",
      "working with: myotube\n",
      "working with: naive_B_To\n",
      "working with: naive_B_VB\n",
      "working with: neuron\n",
      "working with: neurosphere_C\n",
      "working with: neurosphere_GE\n",
      "working with: neutro_myelocyte\n",
      "working with: neutrophil_CB\n",
      "working with: neutrophil_PB\n",
      "working with: neutrophil_VB\n",
      "working with: osteoblast\n",
      "working with: ovary\n",
      "working with: pancreas\n",
      "working with: pancreas_2\n",
      "working with: placenta\n",
      "working with: psoas_muscle\n",
      "working with: right_atrium\n",
      "working with: right_ventricle\n",
      "working with: sigmoid_colon\n",
      "working with: small_intestine_1\n",
      "working with: small_intestine_2\n",
      "working with: spleen\n",
      "working with: stomach_1\n",
      "working with: stomach_2\n",
      "working with: thymus_1\n",
      "working with: thymus_2\n",
      "working with: transverse_colon\n",
      "working with: trophoblast\n",
      "working with: trunk_muscle\n"
     ]
    }
   ],
   "source": [
    "#making a dict of experiment for each cell line}\n",
    "import time\n",
    "dataDict = {}\n",
    "#in case of protein forming loops, we will remove it; taken from https://pubmed.ncbi.nlm.nih.gov/29224777/ plus CTCFL which is CTCF-like (CTCF appears in weintraub et al)\n",
    "blockedList = [\"YY1\",\"CTCF\", \"HDGF\",\"CGGBP1\",\"ADNP\",\"HMGB2\",\"GATAD2A\",\"ZNF512\",\"ZNF532\",\"MORC2\",\"GATAD2B\",\"MORC3\",\"GABPA\",\"NRF1\",\"ZBTB11\",\"ZNF143\",\"JARID2\",\"ZNF281\",\"MGA\",\"PRDM10\",\"ZNF296\",\"NR0B1\",\"POU5F1\",\"ZNF462\",\"ESRRB\",\"DPPA2\",\"CTCFL\"]\n",
    "\n",
    "i = 0\n",
    "\n",
    "while i <len(cellLines[:-1]): #-1 cause there is a '' in the cell list\n",
    "    cell = cellLines[i]\n",
    "    print(\"working with:\", cell)\n",
    "    dataDict[cell] = []\n",
    "    fp = urllib.request.urlopen(\"http://ftp.ensembl.org/pub/release-104/regulation/homo_sapiens/Peaks/\"+cell)\n",
    "    if fp.getcode() == 200:\n",
    "        #get the data and save the dict\n",
    "        mybytes = fp.read()\n",
    "        mystr = mybytes.decode(\"utf8\")\n",
    "\n",
    "        data = mystr.split(\"<a href=\\\"\")\n",
    "\n",
    "        for line in data:\n",
    "            if \":\" in line: #due all experiments have a date associated, so I can avoid non-experiment html code\n",
    "                tf = line.split(\"/\")[0]\n",
    "                if tf not in blockedList:\n",
    "                    dataDict[cell].append(tf)              \n",
    "        i += 1\n",
    "    else:\n",
    "        #for some reason, the server did not return an \"ok\" status, so the code will sleep for a while and trying to get the data in the same cell line again\n",
    "        time.sleep(60)\n",
    "    fp.close()\n",
    "\n",
    "\n",
    "\n",
    "\n",
    " "
   ]
  },
  {
   "cell_type": "code",
   "execution_count": 4,
   "metadata": {},
   "outputs": [
    {
     "name": "stdout",
     "output_type": "stream",
     "text": [
      "adding methilation to GM12878\n",
      "adding methilation to GM12891\n",
      "adding methilation to GM12892\n",
      "adding methilation to HCT116\n",
      "adding methilation to HSMM\n",
      "adding methilation to HepG2\n",
      "adding methilation to K562\n"
     ]
    }
   ],
   "source": [
    "#adding cell lines with methylation\n",
    "methWeb = \"ftp://ftp.ensembl.org/pub/data_files/homo_sapiens/GRCh38/dna_methylation_feature/\"\n",
    "fp = urllib.request.urlopen(methWeb)\n",
    "mybytes = fp.read()\n",
    "\n",
    "mystr = mybytes.decode(\"utf8\")\n",
    "fp.close()\n",
    "\n",
    "data = mystr.split(\"\\n\")\n",
    "methCell = []\n",
    "for d in data:\n",
    "    cell = d.split(\" \")[-1].split(\"_\")[0]\n",
    "    if cell in dataDict: #dataDict came from the previous cell space\n",
    "        print(\"adding methilation to\",cell)\n",
    "        dataDict[cell].append(\"methylation\")"
   ]
  },
  {
   "cell_type": "code",
   "execution_count": 5,
   "metadata": {},
   "outputs": [
    {
     "name": "stdout",
     "output_type": "stream",
     "text": [
      "['A549', 'GM12878', 'GM12891', 'GM12892', 'H1_hESC_3', 'HCT116', 'HUVEC', 'HeLa_S3', 'HepG2', 'IMR_90', 'K562', 'MCF_7', 'SK_N_', 'SK_N_SH_RA']\n"
     ]
    }
   ],
   "source": [
    "#selecting cell lines with TF-associated data\n",
    "cellLinesWithTFs = []\n",
    "for cell in dataDict:\n",
    "    for experiment in dataDict[cell]:\n",
    "        if experiment in TFlist: #TFList came from the second cell space\n",
    "            if cell not in cellLinesWithTFs:\n",
    "                cellLinesWithTFs.append(cell)\n",
    "print(cellLinesWithTFs)"
   ]
  },
  {
   "cell_type": "code",
   "execution_count": 6,
   "metadata": {},
   "outputs": [],
   "source": [
    "#making a dict of dicts for all elements for cell lines with TFs\n",
    "finalDict = {}\n",
    "for cell in cellLinesWithTFs:\n",
    "    finalDict[cell] = {}\n",
    "    for element in dataDict[cell]:      \n",
    "        if element == \"methylation\" or element[0:2] == \"H3\" or element[0:2] == \"H4\" or element == \"CTCF\" or element == \"DNase1\":\n",
    "            finalDict[cell][element] = 1"
   ]
  },
  {
   "cell_type": "code",
   "execution_count": 7,
   "metadata": {},
   "outputs": [
    {
     "name": "stdout",
     "output_type": "stream",
     "text": [
      "            H3K27ac  H3K27me3  H3K36me3  H3K4me1  H3K4me3  H3K9me3  \\\n",
      "A549            1.0       1.0       1.0      1.0      1.0      1.0   \n",
      "GM12878         1.0       1.0       1.0      1.0      1.0      1.0   \n",
      "GM12891         0.0       0.0       0.0      0.0      0.0      0.0   \n",
      "GM12892         0.0       0.0       0.0      0.0      0.0      0.0   \n",
      "H1_hESC_3       1.0       1.0       1.0      1.0      1.0      1.0   \n",
      "HCT116          1.0       1.0       1.0      1.0      1.0      1.0   \n",
      "HUVEC           1.0       1.0       1.0      1.0      1.0      1.0   \n",
      "HeLa_S3         1.0       1.0       1.0      1.0      1.0      1.0   \n",
      "HepG2           1.0       1.0       1.0      1.0      1.0      1.0   \n",
      "IMR_90          1.0       1.0       1.0      1.0      1.0      1.0   \n",
      "K562            1.0       1.0       1.0      1.0      1.0      1.0   \n",
      "MCF_7           1.0       1.0       1.0      1.0      1.0      1.0   \n",
      "SK_N_           1.0       1.0       1.0      1.0      1.0      1.0   \n",
      "SK_N_SH_RA      0.0       0.0       0.0      0.0      0.0      0.0   \n",
      "\n",
      "            methylation  DNase1  H3K4me2  H3K9ac  ...  H3K14ac  H3K18ac  \\\n",
      "A549                0.0     0.0      0.0     0.0  ...      0.0      0.0   \n",
      "GM12878             1.0     0.0      0.0     0.0  ...      0.0      0.0   \n",
      "GM12891             1.0     0.0      0.0     0.0  ...      0.0      0.0   \n",
      "GM12892             1.0     0.0      0.0     0.0  ...      0.0      0.0   \n",
      "H1_hESC_3           0.0     1.0      0.0     0.0  ...      0.0      0.0   \n",
      "HCT116              1.0     1.0      0.0     0.0  ...      0.0      0.0   \n",
      "HUVEC               0.0     1.0      1.0     1.0  ...      0.0      0.0   \n",
      "HeLa_S3             0.0     1.0      0.0     0.0  ...      0.0      0.0   \n",
      "HepG2               1.0     1.0      0.0     0.0  ...      0.0      0.0   \n",
      "IMR_90              0.0     1.0      1.0     1.0  ...      1.0      1.0   \n",
      "K562                1.0     1.0      0.0     0.0  ...      0.0      0.0   \n",
      "MCF_7               0.0     1.0      0.0     0.0  ...      0.0      0.0   \n",
      "SK_N_               0.0     1.0      0.0     0.0  ...      0.0      0.0   \n",
      "SK_N_SH_RA          0.0     0.0      0.0     0.0  ...      0.0      0.0   \n",
      "\n",
      "            H3K23ac  H3K4ac  H3K56ac  H3K79me1  H3K79me2  H4K5ac  H4K8ac  \\\n",
      "A549            0.0     0.0      0.0       0.0       0.0     0.0     0.0   \n",
      "GM12878         0.0     0.0      0.0       0.0       0.0     0.0     0.0   \n",
      "GM12891         0.0     0.0      0.0       0.0       0.0     0.0     0.0   \n",
      "GM12892         0.0     0.0      0.0       0.0       0.0     0.0     0.0   \n",
      "H1_hESC_3       0.0     0.0      0.0       0.0       0.0     0.0     0.0   \n",
      "HCT116          0.0     0.0      0.0       0.0       0.0     0.0     0.0   \n",
      "HUVEC           0.0     0.0      0.0       0.0       0.0     0.0     0.0   \n",
      "HeLa_S3         0.0     0.0      0.0       0.0       0.0     0.0     0.0   \n",
      "HepG2           0.0     0.0      0.0       0.0       0.0     0.0     0.0   \n",
      "IMR_90          1.0     1.0      1.0       1.0       1.0     1.0     1.0   \n",
      "K562            0.0     0.0      0.0       0.0       0.0     0.0     0.0   \n",
      "MCF_7           0.0     0.0      0.0       0.0       0.0     0.0     0.0   \n",
      "SK_N_           0.0     0.0      0.0       0.0       0.0     0.0     0.0   \n",
      "SK_N_SH_RA      0.0     0.0      0.0       0.0       0.0     0.0     0.0   \n",
      "\n",
      "            H4K91ac  \n",
      "A549            0.0  \n",
      "GM12878         0.0  \n",
      "GM12891         0.0  \n",
      "GM12892         0.0  \n",
      "H1_hESC_3       0.0  \n",
      "HCT116          0.0  \n",
      "HUVEC           0.0  \n",
      "HeLa_S3         0.0  \n",
      "HepG2           0.0  \n",
      "IMR_90          1.0  \n",
      "K562            0.0  \n",
      "MCF_7           0.0  \n",
      "SK_N_           0.0  \n",
      "SK_N_SH_RA      0.0  \n",
      "\n",
      "[14 rows x 22 columns]\n"
     ]
    }
   ],
   "source": [
    "#converting dict for cell lines with tf into a pandas dataframe\n",
    "import pandas as pd\n",
    "df = pd.DataFrame(finalDict)\n",
    "df = df.transpose()\n",
    "df = df.dropna(how=\"all\", axis=1)\n",
    "df = df.fillna(0)\n",
    "print(df)"
   ]
  },
  {
   "cell_type": "code",
   "execution_count": 8,
   "metadata": {},
   "outputs": [
    {
     "data": {
      "text/plain": [
       "<AxesSubplot:>"
      ]
     },
     "execution_count": 8,
     "metadata": {},
     "output_type": "execute_result"
    },
    {
     "data": {
      "image/png": "[encoded data removed]",
      "text/plain": [
       "<Figure size 432x288 with 2 Axes>"
      ]
     },
     "metadata": {
      "needs_background": "light"
     },
     "output_type": "display_data"
    }
   ],
   "source": [
    "#plotting the dataframe\n",
    "import numpy as np \n",
    "import seaborn as sns\n",
    "%matplotlib inline\n",
    "sns.heatmap(df, annot=True)"
   ]
  },
  {
   "cell_type": "code",
   "execution_count": 9,
   "metadata": {},
   "outputs": [
    {
     "data": {
      "text/plain": [
       "<Figure size 640x480 with 0 Axes>"
      ]
     },
     "metadata": {},
     "output_type": "display_data"
    },
    {
     "data": {
      "image/png": "[encoded data removed]",
      "text/plain": [
       "<Figure size 1080x720 with 1 Axes>"
      ]
     },
     "metadata": {
      "needs_background": "light"
     },
     "output_type": "display_data"
    }
   ],
   "source": [
    "#histogram about how many TFs there are in each cell line\n",
    "import matplotlib.pyplot as plt\n",
    "from matplotlib.pyplot import figure\n",
    "\n",
    "figure(figsize=(8, 6), dpi=80)\n",
    "tfDict = {}\n",
    "for cell in cellLinesWithTFs:\n",
    "    tfDict[cell] = 0\n",
    "    for element in dataDict[cell]:      \n",
    "        if element != \"methylation\" and element[0:2] != \"H3\" and element[0:2] != \"H4\" and element != \"CTCF\" and element != \"DNase1\":\n",
    "            tfDict[cell] += 1\n",
    "figure(figsize=(15,10))\n",
    "plt.bar(tfDict.keys(), tfDict.values(), color='g')\n",
    "ax = plt.gca()\n",
    "plt.show()"
   ]
  }
 ],
 "metadata": {
  "kernelspec": {
   "display_name": "Python 3",
   "language": "python",
   "name": "python3"
  },
  "language_info": {
   "codemirror_mode": {
    "name": "ipython",
    "version": 3
   },
   "file_extension": ".py",
   "mimetype": "text/x-python",
   "name": "python",
   "nbconvert_exporter": "python",
   "pygments_lexer": "ipython3",
   "version": "3.8.10"
  }
 },
 "nbformat": 4,
 "nbformat_minor": 4
}
